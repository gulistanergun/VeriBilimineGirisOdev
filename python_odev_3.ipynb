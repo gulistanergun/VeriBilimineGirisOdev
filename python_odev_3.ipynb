{
  "nbformat": 4,
  "nbformat_minor": 0,
  "metadata": {
    "colab": {
      "provenance": [],
      "toc_visible": true,
      "authorship_tag": "ABX9TyN+c1YyUEhzUIRbK4lHb9Rc",
      "include_colab_link": true
    },
    "kernelspec": {
      "name": "python3",
      "display_name": "Python 3"
    },
    "language_info": {
      "name": "python"
    }
  },
  "cells": [
    {
      "cell_type": "markdown",
      "metadata": {
        "id": "view-in-github",
        "colab_type": "text"
      },
      "source": [
        "<a href=\"https://colab.research.google.com/github/gulistanergun/VeriBilimineGirisOdev/blob/main/python_odev_3.ipynb\" target=\"_parent\"><img src=\"https://colab.research.google.com/assets/colab-badge.svg\" alt=\"Open In Colab\"/></a>"
      ]
    },
    {
      "cell_type": "code",
      "execution_count": 9,
      "metadata": {
        "colab": {
          "base_uri": "https://localhost:8080/"
        },
        "id": "0JEkiy9e2vgs",
        "outputId": "374bd4d2-7de6-4005-c114-908131b68f03"
      },
      "outputs": [
        {
          "output_type": "stream",
          "name": "stdout",
          "text": [
            "Tüm notlar: [85, 92, 76, 92, 100, 76, 85, 92]\n",
            "Benzersiz notlar: [100, 92, 85, 76]\n",
            "En yüksek not: 100\n",
            "En düşük not: 76\n",
            "Sıralı notlar: [76, 76, 85, 85, 92, 92, 92, 100]\n",
            "Sıralı notlar: [76, 85, 92, 100]\n"
          ]
        }
      ],
      "source": [
        "#Soru 1 – Liste Metotları\n",
        "\n",
        "\"\"\"\n",
        "Bir sınıfta öğrencilerin notları şu şekilde tutuluyor:\n",
        "notlar = [85, 92, 76, 92, 100, 76, 85, 92]\n",
        "• Listedeki tekrar eden notları silip benzersiz bir liste oluşturun.\n",
        "• En yüksek ve en düşük notu bulun.\n",
        "• Notları küçükten büyüğe sıralayın.\n",
        "\"\"\"\n",
        "\n",
        "notlar = [85, 92, 76, 92, 100, 76, 85, 92]\n",
        "print(f\"Tüm notlar: {notlar}\")\n",
        "\n",
        "# Tekrar eden notları silme - set() kullanarak benzersiz değerler\n",
        "benzersiz_liste = list(set(notlar))\n",
        "print(f\"Benzersiz notlar: {benzersiz_liste}\")\n",
        "\n",
        "# En yüksek ve en düşük not\n",
        "en_yuksek = max(notlar)\n",
        "en_dusuk = min(notlar)\n",
        "print(f\"En yüksek not: {en_yuksek}\")\n",
        "print(f\"En düşük not: {en_dusuk}\")\n",
        "\n",
        "# Notları sıralama\n",
        "sirali_liste = sorted(notlar)\n",
        "print(f\"Sıralı notlar: {sirali_liste}\")\n",
        "sirali_liste_benzersiz = sorted(set(notlar))\n",
        "print(f\"Sıralı notlar: {sirali_liste_benzersiz}\")\n",
        "\n",
        "\n"
      ]
    },
    {
      "cell_type": "code",
      "source": [
        "\"\"\"\n",
        "Soru 2 – Sayılar\n",
        "Bir sayının Armstrong sayısı olup olmadığını kontrol eden bir Python fonksiyonu yazın.\n",
        "Armstrong sayısı: Her basamağının küplerinin toplamı kendisine eşit olan sayılar.\n",
        "Örn: 153 → 1³+5³+3³ = 153\n",
        "\"\"\"\n",
        "def armstrong_sayi(sayi):\n",
        "    str_sayi = str(sayi)               # stringe çeviriyoruz\n",
        "    basamak_sayisi = len(str_sayi)     # Basamak sayısını bul\n",
        "    toplam = 0\n",
        "\n",
        "    print(f\"Sayı: {sayi}\")\n",
        "    print(f\"Basamak sayısı: {basamak_sayisi}\")\n",
        "    print(\"Basamakların kuvvetleri:\")\n",
        "\n",
        "    for basamak in str_sayi:\n",
        "        rakam = int(basamak)\n",
        "        kuvvet = rakam ** basamak_sayisi\n",
        "        toplam += kuvvet   # her basamağın kuvvetini topla\n",
        "        print(f\"Basamak: {rakam}, {rakam}^{basamak_sayisi} = {kuvvet}\")\n",
        "\n",
        "    print(f\"Kuvvetler toplamı: {toplam}\")\n",
        "    if toplam == sayi:\n",
        "        print(f\"{sayi} bir Armstrong sayısıdır.\\n\")\n",
        "    else:\n",
        "        print(f\"{sayi} bir Armstrong sayısı değildir.\\n\")\n",
        "\n",
        "sayilari = [153, 123]\n",
        "for sayi in sayilari:\n",
        "    armstrong_sayi(sayi)\n",
        "\n"
      ],
      "metadata": {
        "id": "oJwzg5Vv7G_D",
        "colab": {
          "base_uri": "https://localhost:8080/"
        },
        "outputId": "87c8a205-1962-4e9e-e621-06f7d584af54"
      },
      "execution_count": 10,
      "outputs": [
        {
          "output_type": "stream",
          "name": "stdout",
          "text": [
            "Sayı: 153\n",
            "Basamak sayısı: 3\n",
            "Basamakların kuvvetleri:\n",
            "Basamak: 1, 1^3 = 1\n",
            "Basamak: 5, 5^3 = 125\n",
            "Basamak: 3, 3^3 = 27\n",
            "Kuvvetler toplamı: 153\n",
            "153 bir Armstrong sayısıdır.\n",
            "\n",
            "Sayı: 123\n",
            "Basamak sayısı: 3\n",
            "Basamakların kuvvetleri:\n",
            "Basamak: 1, 1^3 = 1\n",
            "Basamak: 2, 2^3 = 8\n",
            "Basamak: 3, 3^3 = 27\n",
            "Kuvvetler toplamı: 36\n",
            "123 bir Armstrong sayısı değildir.\n",
            "\n"
          ]
        }
      ]
    },
    {
      "cell_type": "code",
      "source": [
        "\"\"\"Soru 3 – Kümeler\n",
        "Aşağıdaki iki küme verilmiştir:\n",
        "A = {\"Python\", \"R\", \"SQL\", \"Java\"}\n",
        "B = {\"C++\", \"Python\", \"JavaScript\", \"SQL\"}\n",
        "• Ortak dilleri bulun.\n",
        "• Sadece A’da olan dilleri listeleyin.\n",
        "• İki kümenin birleşimini alfabetik olarak yazdırın\n",
        "\"\"\"\n",
        "A = {\"Python\", \"R\", \"SQL\", \"Java\"}\n",
        "B = {\"C++\", \"Python\", \"JavaScript\", \"SQL\"}\n",
        "\n",
        "print(f\"A kümesi: {A}\")\n",
        "print(f\"B kümesi: {B}\")\n",
        "\n",
        "ortak_diller = A & B\n",
        "print(f\"Ortak diller: {ortak_diller}\")\n",
        "\n",
        "A_kumesi = A - B\n",
        "print(f\"Sadece A'da olan diller: {A_kumesi}\")\n",
        "\n",
        "A_birlesim_B= A | B\n",
        "print(f\"A ve B kümelerinin birleşimi: {A_birlesim_B}\")\n",
        "\n",
        "alfabetik_sira = sorted(A|B)\n",
        "print(f\"Alfabetik sırada birleşim kümesi: {alfabetik_sira}\")\n",
        "\n",
        "\n",
        "\n"
      ],
      "metadata": {
        "colab": {
          "base_uri": "https://localhost:8080/"
        },
        "id": "qi4xGwzNius_",
        "outputId": "7dcbce00-bd4a-456b-88c3-6bc70559a7f4"
      },
      "execution_count": 15,
      "outputs": [
        {
          "output_type": "stream",
          "name": "stdout",
          "text": [
            "A kümesi: {'R', 'Python', 'Java', 'SQL'}\n",
            "B kümesi: {'C++', 'Python', 'SQL', 'JavaScript'}\n",
            "Ortak diller: {'Python', 'SQL'}\n",
            "Sadece A'da olan diller: {'R', 'Java'}\n",
            "A ve B kümelerinin birleşimi: {'C++', 'Python', 'SQL', 'R', 'Java', 'JavaScript'}\n",
            "Alfabetik sırada birleşim kümesi: ['C++', 'Java', 'JavaScript', 'Python', 'R', 'SQL']\n"
          ]
        }
      ]
    },
    {
      "cell_type": "code",
      "source": [
        "\"\"\"\n",
        "Soru 4 – Modüller\n",
        "• random modülünü kullanarak 1–100 arasında 10 rastgele sayı üretin.\n",
        "• Bu sayıların ortalamasını ve standart sapmasını statistics modülü ile hesaplayın.\n",
        "\"\"\"\n",
        "import random\n",
        "import statistics\n",
        "\n",
        "# rastgele= [random.randint(1,100) for _ in range(10)]\n",
        "rastgele = []             # Boş liste\n",
        "for _ in range(10):       # 10 kez dön\n",
        "    sayi = random.randint(1, 100)  # 1-100 arasında rastgele sayı\n",
        "    rastgele.append(sayi)\n",
        "print(f\"Rastgele Sayilar: {rastgele}\")\n",
        "\n",
        "ortalama = statistics.mean(rastgele)\n",
        "standart_sapma = statistics.stdev(rastgele)\n",
        "\n",
        "print(f\"Ortalama: {ortalama:.2f}\")\n",
        "print(f\"Standart sapma: {standart_sapma:.2f}\")\n",
        "\n"
      ],
      "metadata": {
        "colab": {
          "base_uri": "https://localhost:8080/"
        },
        "id": "91Ce4sqJ2i3T",
        "outputId": "845f319b-eda6-4649-e229-310fc4d8fb57"
      },
      "execution_count": 17,
      "outputs": [
        {
          "output_type": "stream",
          "name": "stdout",
          "text": [
            "Rastgele Sayilar: [33, 42, 24, 95, 85, 95, 53, 72, 29, 75]\n",
            "Ortalama: 60.30\n",
            "Standart sapma: 27.49\n"
          ]
        }
      ]
    },
    {
      "cell_type": "code",
      "source": [
        "\"\"\"Soru 5 Fonksiyonlar\n",
        "kelime_sayacı(metin) adında bir fonksiyon yazın.\n",
        "Fonksiyon verilen metindeki:\n",
        "• toplam kelime sayısını\n",
        "• en uzun kelimeyi\n",
        "• en sık geçen kelimeyi döndürsün\n",
        "\"\"\"\n",
        "\n",
        "def kelime_sayaci(metin):\n",
        "\n",
        "  #toplam kelime sayisi\n",
        "  kelimeler = metin.split()\n",
        "  toplam_kelime= len(kelimeler)\n",
        "\n",
        "  #en uzun kelime\n",
        "  en_uzun_kelime = max(kelimeler, key=len) if kelimeler else \"\"\n",
        "\n",
        "\n",
        "  # En sık geçen kelime\n",
        "  kelime_sayilari = {}\n",
        "  for kelime in kelimeler:\n",
        "      kelime_sayilari[kelime] = kelime_sayilari.get(kelime, 0) + 1\n",
        "\n",
        "  en_sik_kelime = max(kelime_sayilari, key=kelime_sayilari.get) if kelime_sayilari else \"\"\n",
        "\n",
        "  return toplam_kelime, en_uzun_kelime, en_sik_kelime\n",
        "\n",
        "\n",
        "ornek_metin = \"\"\"Python’da rastgele sayı üretmek, listelerden rastgele seçim yapmak\n",
        "  veya elemanları karıştırmak için kullanılır. Oyunlarda, simülasyonlarda\n",
        "  ve test verisi üretiminde sıkça tercih edilir.\"\"\"\n",
        "toplam, en_uzun, en_sik = kelime_sayaci(ornek_metin)\n",
        "print(f\"Örnek metin: {ornek_metin}\")\n",
        "print(f\"Toplam kelime: {toplam}\")\n",
        "print(f\"En uzun kelime: {en_uzun}\")\n",
        "print(f\"En sık kelime: {en_sik}\")"
      ],
      "metadata": {
        "colab": {
          "base_uri": "https://localhost:8080/"
        },
        "id": "ngZLN_1M-nIw",
        "outputId": "813e08a0-800d-4f4b-8d2c-dd9425f7ec8e"
      },
      "execution_count": 24,
      "outputs": [
        {
          "output_type": "stream",
          "name": "stdout",
          "text": [
            "Örnek metin: Python’da rastgele sayı üretmek, listelerden rastgele seçim yapmak \n",
            "  veya elemanları karıştırmak için kullanılır. Oyunlarda, simülasyonlarda \n",
            "  ve test verisi üretiminde sıkça tercih edilir.\n",
            "Toplam kelime: 22\n",
            "En uzun kelime: simülasyonlarda\n",
            "En sık kelime: rastgele\n"
          ]
        }
      ]
    },
    {
      "cell_type": "code",
      "source": [
        "\"\"\"\n",
        "Soru 6 Gömülü Fonksiyonlar\n",
        "Aşağıdaki liste için map, filter, sorted gibi gömülü fonksiyonları kullanarak:\n",
        "sayilar = [5, 12, 7, 18, 24, 3, 16]\n",
        "• Sadece çift sayıları filtreleyin.\n",
        "• Bu sayıların karelerini bulun.\n",
        "• Karelerini azalan sırada sıralayın.\n",
        "\"\"\"\n",
        "sayilar = [5, 12, 7, 18, 24, 3, 16]\n",
        "print(f\"Orijinal sayılar: {sayilar}\")\n",
        "\n",
        "# Sadece çift sayıları\n",
        "cift_sayilar = list(filter(lambda x: x % 2 == 0, sayilar))\n",
        "print(f\"Çift sayılar: {cift_sayilar}\")\n",
        "\n",
        "# Çift sayıların kareleri\n",
        "kareler = list(map(lambda x: x**2, cift_sayilar))\n",
        "print(f\"Çift sayıların kareleri: {kareler}\")\n",
        "\n",
        "# Kareleri azalan sırada sırala\n",
        "azalan_kareler = sorted(kareler, reverse=True)\n",
        "print(f\"Azalan sırada kareler: {azalan_kareler}\")\n",
        "\n",
        "# Tek seferde yapılması:\n",
        "tek_seferde = sorted(map(lambda x: x**2, filter(lambda x: x % 2 == 0, sayilar)), reverse=True)\n",
        "print(f\"Tek seferde işlemleri yapıp srala: {tek_seferde}\")\n",
        "\n",
        "\n",
        "\n"
      ],
      "metadata": {
        "colab": {
          "base_uri": "https://localhost:8080/"
        },
        "id": "QZzMFyMbFd7K",
        "outputId": "509d08e5-46b3-45f9-e8f3-51b400e00e45"
      },
      "execution_count": 26,
      "outputs": [
        {
          "output_type": "stream",
          "name": "stdout",
          "text": [
            "Orijinal sayılar: [5, 12, 7, 18, 24, 3, 16]\n",
            "Çift sayılar: [12, 18, 24, 16]\n",
            "Çift sayıların kareleri: [144, 324, 576, 256]\n",
            "Azalan sırada kareler: [576, 324, 256, 144]\n",
            "Tek seferde işlemleri yapıp srala: [576, 324, 256, 144]\n"
          ]
        }
      ]
    },
    {
      "cell_type": "code",
      "source": [
        "\"\"\"\n",
        "Soru 7 – Lambda İfadeleri\n",
        "Aşağıdaki listeyi, her kelimenin uzunluğuna göre küçükten büyüğe sıralayın.\n",
        "kelimeler = [\"veri\", \"bilim\", \"analiz\", \"yapayzeka\", \"python\"]\n",
        "Bunu sorted + lambda ile yapın\n",
        "\"\"\"\n",
        "kelimeler = [\"veri\", \"bilim\", \"analiz\", \"yapayzeka\", \"python\"]\n",
        "print(f\"Kelime Dizisi: {kelimeler}\")\n",
        "\n",
        "#sıralama\n",
        "uzunluk = sorted(kelimeler, key = lambda x:len(x))\n",
        "print(f\"Uzunluğa göre sırala: {uzunluk}\")\n",
        "\n"
      ],
      "metadata": {
        "colab": {
          "base_uri": "https://localhost:8080/"
        },
        "id": "ntg3NN9yK2xm",
        "outputId": "8d54def6-061f-4708-cbc8-8a4e75542d1f"
      },
      "execution_count": 29,
      "outputs": [
        {
          "output_type": "stream",
          "name": "stdout",
          "text": [
            "Kelime Dizisi: ['veri', 'bilim', 'analiz', 'yapayzeka', 'python']\n",
            "Uzunluğa göre sırala: ['veri', 'bilim', 'analiz', 'python', 'yapayzeka']\n"
          ]
        }
      ]
    },
    {
      "cell_type": "code",
      "source": [
        "\"\"\"\n",
        "Soru 8 – Metodlar\n",
        "Bir string içinde geçen tüm rakamları bulun ve bunların toplamını döndüren bir fonksiyon\n",
        "yazın.\n",
        "Örn: \"abc12def3\" → 12 + 3 = 15\n",
        "\"\"\"\n",
        "\n",
        "def rakam_topla(metin):\n",
        "    toplam = 0\n",
        "    rakam_grubu = \"\"  # Rakamları biriktir\n",
        "\n",
        "    for karakter in metin:\n",
        "        if karakter.isdigit():\n",
        "            rakam_grubu += karakter\n",
        "        else:\n",
        "            if rakam_grubu:  # grup varsa topla\n",
        "                toplam += int(rakam_grubu)\n",
        "                rakam_grubu = \"\"  # sıfırla\n",
        "\n",
        "    if rakam_grubu:  # son grup kaldıysa ekle\n",
        "        toplam += int(rakam_grubu)\n",
        "\n",
        "    return toplam\n",
        "\n",
        "ornek_metin = \"abc12def3\"\n",
        "sonuc = rakam_topla(ornek_metin)\n",
        "print(f\"Örnek metin: {ornek_metin}\")\n",
        "print(f\"Rakamların toplamı: {sonuc}\")"
      ],
      "metadata": {
        "colab": {
          "base_uri": "https://localhost:8080/"
        },
        "id": "_F_aArYGVMkT",
        "outputId": "82ce54c7-11fd-4397-a817-0e3df788b44b"
      },
      "execution_count": 36,
      "outputs": [
        {
          "output_type": "stream",
          "name": "stdout",
          "text": [
            "Örnek metin: abc12def3\n",
            "Rakamların toplamı: 15\n"
          ]
        }
      ]
    },
    {
      "cell_type": "code",
      "source": [
        "\"\"\"\n",
        "Soru 9 – (Ekstra) Numpy 1\n",
        "10 elemanlı bir numpy dizisi oluşturun.\n",
        "• Elemanlar 0–50 arasında rastgele sayılar olsun.\n",
        "• Dizinin ortalamasını, standart sapmasını ve en büyük değerini bulun.\n",
        "\"\"\"\n",
        "import numpy as np\n",
        "\n",
        "\n",
        "dizi = np.random.randint(0, 51, 10)\n",
        "\n",
        "# Diziyi yazdır\n",
        "print(\"Dizi:\", dizi)\n",
        "\n",
        "# Ortalama\n",
        "ortalama = np.mean(dizi)\n",
        "print(\"Ortalama:\", ortalama)\n",
        "\n",
        "# Standart sapma\n",
        "standart_sapma = np.std(dizi)\n",
        "print(\"Standart Sapma:\", standart_sapma)\n",
        "\n",
        "# En büyük değer\n",
        "en_buyuk = np.max(dizi)\n",
        "print(\"En Büyük Değer:\", en_buyuk)"
      ],
      "metadata": {
        "colab": {
          "base_uri": "https://localhost:8080/"
        },
        "id": "kN4DFci9du-Z",
        "outputId": "33c67ae3-43c5-442a-da1a-0325001eb41b"
      },
      "execution_count": 39,
      "outputs": [
        {
          "output_type": "stream",
          "name": "stdout",
          "text": [
            "Dizi: [19 19 32 15 15 26 25 17 48  4]\n",
            "Ortalama: 22.0\n",
            "Standart Sapma: 11.251666543228163\n",
            "En Büyük Değer: 48\n"
          ]
        }
      ]
    },
    {
      "cell_type": "code",
      "source": [
        "\"\"\"\n",
        "Soru 10 – (Ekstra) Numpy 2\n",
        "5x5 boyutunda rastgele 0–1 arasında değerlerden oluşan bir numpy matrisi üretin.\n",
        "• Her sütunun ortalamasını bulun.\n",
        "• 0.5’ten büyük olan değerleri 1, küçük eşit olanları 0 yaparak binary matris oluşturun.\n",
        "\"\"\"\n",
        "\n",
        "import numpy as np\n",
        "matris = np.random.rand(5, 5)\n",
        "print(\"Orijinal Matris:\")\n",
        "print(matris)\n",
        "\n",
        "# Sütun ortalamaları\n",
        "sutun_ortalama = np.mean(matris, axis=0)\n",
        "print(\"\\nSütun Ortalamaları:\\n\", sutun_ortalama)\n",
        "\n",
        "# 3. Binary matris oluştur (0.5’ten büyük -> 1, küçük eşit -> 0)\n",
        "binary_matris = np.where(matris > 0.5, 1, 0)\n",
        "print(\"\\nBinary Matris:\\n\", binary_matris)\n"
      ],
      "metadata": {
        "colab": {
          "base_uri": "https://localhost:8080/"
        },
        "id": "GqYjGTBEfVTL",
        "outputId": "03a840f5-a8a6-41db-9ea4-485e0142836c"
      },
      "execution_count": 45,
      "outputs": [
        {
          "output_type": "stream",
          "name": "stdout",
          "text": [
            "Orijinal Matris:\n",
            "[[0.77972216 0.6826339  0.81161959 0.44422269 0.94473883]\n",
            " [0.04487265 0.55943152 0.43595844 0.09799962 0.10808127]\n",
            " [0.01911298 0.08936364 0.87800455 0.68064431 0.02394437]\n",
            " [0.20442862 0.84036797 0.32686551 0.72915301 0.40745294]\n",
            " [0.26983059 0.60954794 0.33299691 0.04346223 0.60368788]]\n",
            "\n",
            "Sütun Ortalamaları:\n",
            " [0.2635934  0.55626899 0.557089   0.39909637 0.41758106]\n",
            "\n",
            "Binary Matris:\n",
            " [[1 1 1 0 1]\n",
            " [0 1 0 0 0]\n",
            " [0 0 1 1 0]\n",
            " [0 1 0 1 0]\n",
            " [0 1 0 0 1]]\n"
          ]
        }
      ]
    }
  ]
}