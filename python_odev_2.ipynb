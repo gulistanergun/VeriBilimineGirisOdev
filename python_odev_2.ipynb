{
  "nbformat": 4,
  "nbformat_minor": 0,
  "metadata": {
    "colab": {
      "provenance": [],
      "toc_visible": true,
      "authorship_tag": "ABX9TyN7DxE6qdI2Kij6LmWfYbkp",
      "include_colab_link": true
    },
    "kernelspec": {
      "name": "python3",
      "display_name": "Python 3"
    },
    "language_info": {
      "name": "python"
    }
  },
  "cells": [
    {
      "cell_type": "markdown",
      "metadata": {
        "id": "view-in-github",
        "colab_type": "text"
      },
      "source": [
        "<a href=\"https://colab.research.google.com/github/gulistanergun/VeriBilimineGirisOdev/blob/main/python_odev_2.ipynb\" target=\"_parent\"><img src=\"https://colab.research.google.com/assets/colab-badge.svg\" alt=\"Open In Colab\"/></a>"
      ]
    },
    {
      "cell_type": "code",
      "execution_count": null,
      "metadata": {
        "colab": {
          "base_uri": "https://localhost:8080/"
        },
        "id": "TWs_oPkH5s5k",
        "outputId": "66b998ee-dfd0-4e0f-f92a-081d22f8a81d"
      },
      "outputs": [
        {
          "output_type": "stream",
          "name": "stdout",
          "text": [
            "Bir sayi giriniz:45\n",
            "Girilen sayı: Pozitif Tek\n"
          ]
        }
      ],
      "source": [
        "\"\"\"\n",
        "– 1: Sayı Analizi\n",
        "Kullanıcıdan bir sayı isteyin.\n",
        "• Sayı pozitif, negatif ya da sıfır mı kontrol edin.\n",
        "• Aynı zamanda tek/çift olup olmadığını da belirtin.\n",
        "• Çıktı örneği: \"Pozitif Çift\" veya \"Negatif Tek\" gibi.\n",
        "\"\"\"\n",
        "sayi= int(input(\"Bir sayi giriniz:\"))\n",
        "if sayi > 0:\n",
        "  girilen_sayi = \"Pozitif\"\n",
        "elif sayi < 0:\n",
        "  girilen_sayi = \"Negatif\"\n",
        "else:\n",
        "  girilen_sayi = \"Sıfır\"\n",
        "\n",
        "# tek çift kontrolü\n",
        "if sayi % 2 == 0:\n",
        " sayi_tur = \"Çift\"\n",
        "else:\n",
        "  sayi_tur = \"Tek\"\n",
        "\n",
        "\n",
        "print(f\"Girilen sayı: {girilen_sayi} {sayi_tur}\")\n"
      ]
    },
    {
      "cell_type": "code",
      "source": [
        "\"\"\"\n",
        "Soru 2 – Harf Frekansı (String)\n",
        "Kullanıcıdan bir kelime alın.\n",
        "• Hangi harften kaç tane geçtiğini bulun.\n",
        "• Sonucu dictionary olarak gösterin.\n",
        "Örnek: \"data\" → {'d': 1, 'a': 2, 't': 1}\n",
        "\"\"\"\n",
        "\n",
        "kelime = input(\"Bir kelime giriniz: \")\n",
        "frekans = {}\n",
        "\n",
        "for harf in kelime:\n",
        "  if harf in frekans:\n",
        "    frekans[harf] += 1\n",
        "  else:\n",
        "    frekans[harf] = 1\n",
        "\n",
        "print(frekans)\n",
        "\n",
        "\n"
      ],
      "metadata": {
        "colab": {
          "base_uri": "https://localhost:8080/"
        },
        "id": "AUiQko-H8LrL",
        "outputId": "eb93bd4b-5ba3-49e6-b4d5-6bd1b6ea26db"
      },
      "execution_count": null,
      "outputs": [
        {
          "output_type": "stream",
          "name": "stdout",
          "text": [
            "Bir kelime giriniz: karadeniz\n",
            "{'k': 1, 'a': 2, 'r': 1, 'd': 1, 'e': 1, 'n': 1, 'i': 1, 'z': 1}\n"
          ]
        }
      ]
    },
    {
      "cell_type": "code",
      "source": [
        "\n",
        "\"\"\"\n",
        "Soru 3 – Şifre Kontrolü (String Metotları)\n",
        "Kullanıcıdan şifre girmesini isteyin. Şifre:\n",
        "• En az 8 karakter olmalı\n",
        "• En az 1 büyük harf içermeli\n",
        "• En az 1 rakam içermeli\n",
        "Koşulları sağlayıp sağlamadığına göre kullanıcıyı bilgilendirin.\n",
        "\"\"\"\n",
        "while True:\n",
        "\n",
        "  sifre = input(\"Şifre oluşturun:\")\n",
        "  if len(sifre) < 8:\n",
        "    print(\"Şifre 8 karakterden küçük olamaz!\")\n",
        "  elif not any(h.isupper() for h in sifre):\n",
        "      print(\"Şifre en az 1 büyük harf içermeli.\")\n",
        "  elif not any(h.isdigit() for h in sifre):\n",
        "      print(\"Şifre en az 1 rakam içermeli.\")\n",
        "  else:\n",
        "      print(\"Şifre geçerli!\")\n",
        "      break\n",
        "\n",
        "\n"
      ],
      "metadata": {
        "colab": {
          "base_uri": "https://localhost:8080/"
        },
        "id": "o3mfi1jtwxDp",
        "outputId": "0047da63-5266-4309-ef27-6ef8eeac55f0"
      },
      "execution_count": null,
      "outputs": [
        {
          "output_type": "stream",
          "name": "stdout",
          "text": [
            "Şifre oluşturun:sifre\n",
            "Şifre 8 karakterden küçük olamaz!\n",
            "Şifre oluşturun:Şifre\n",
            "Şifre 8 karakterden küçük olamaz!\n",
            "Şifre oluşturun:Şifre1\n",
            "Şifre 8 karakterden küçük olamaz!\n",
            "Şifre oluşturun:Şifre123\n",
            "Şifre geçerli!\n"
          ]
        }
      ]
    },
    {
      "cell_type": "code",
      "source": [
        "\"\"\"\n",
        "Soru 4 – Liste İşlemleri\n",
        "[12, 4, 9, 25, 30, 7, 18] listesini kullanın.\n",
        "• Listenin ortalamasını bulun.\n",
        "• Ortalamadan büyük sayıları ayrı bir listeye atın.\n",
        "• Sonucu ekrana yazdırın.\n",
        "\"\"\"\n",
        "\n",
        "liste = [12, 4, 9, 25, 30, 7, 18]\n",
        "print(liste)\n",
        "\n",
        "ortalama = sum(liste) / len(liste)\n",
        "print(\"Ortalama:\", ortalama)\n",
        "\n",
        "buyukler = [x for x in liste if x > ortalama]\n",
        "print(\"Ortalama üstü sayılar:\", buyukler)\n"
      ],
      "metadata": {
        "colab": {
          "base_uri": "https://localhost:8080/"
        },
        "id": "ZPKiSPPTKcud",
        "outputId": "8c5cf0d1-f61e-4dc1-9fbe-79e6e16d9265"
      },
      "execution_count": null,
      "outputs": [
        {
          "output_type": "stream",
          "name": "stdout",
          "text": [
            "[12, 4, 9, 25, 30, 7, 18]\n",
            "Ortalama: 15.0\n",
            "Ortalama üstü sayılar: [25, 30, 18]\n"
          ]
        }
      ]
    },
    {
      "cell_type": "code",
      "source": [
        "\"\"\"\n",
        "Soru 5 – Nested Loop (Desen)\n",
        "Aşağıdaki çıktıyı üreten programı yazın (üçgen desen):\n",
        "*\n",
        "**\n",
        "***\n",
        "****\n",
        "*****\n",
        "\"\"\"\n",
        "for i in range(1, 6):      # satırlar\n",
        "    for j in range(i):      # sütunlar\n",
        "        print(\"*\", end=\"\")  # aynı satıra yaz\n",
        "    print()                 # satır sonu\n",
        "\n",
        "\n"
      ],
      "metadata": {
        "colab": {
          "base_uri": "https://localhost:8080/"
        },
        "id": "2ygIJ4ssOpq-",
        "outputId": "ddf8eb14-034e-4164-a3d3-b611decc3552"
      },
      "execution_count": null,
      "outputs": [
        {
          "output_type": "stream",
          "name": "stdout",
          "text": [
            "*\n",
            "**\n",
            "***\n",
            "****\n",
            "*****\n"
          ]
        }
      ]
    },
    {
      "cell_type": "code",
      "source": [
        "\"\"\"\n",
        "soru 6 : While Döngüsü\n",
        "Kullanıcıdan sürekli sayı isteyin.\n",
        "• Kullanıcı 0 girdiğinde program dursun.\n",
        "• Girilen tüm sayıların toplamını ve ortalamasını yazdırın.\n",
        "\"\"\"\n",
        "toplam = 0\n",
        "adet = 0\n",
        "\n",
        "while True:\n",
        "    sayi = int(input(\"Sayı girin (0 ise bitir): \"))\n",
        "    if sayi == 0:\n",
        "        break\n",
        "    toplam += sayi\n",
        "    adet += 1\n",
        "\n",
        "if adet > 0:\n",
        "    print(\"Toplam:\", toplam)\n",
        "    print(f\"Ortalama:  {toplam / adet:.2f}\")\n",
        "else:\n",
        "    print(\"Hiç sayı girilmedi.\")\n",
        "\n"
      ],
      "metadata": {
        "colab": {
          "base_uri": "https://localhost:8080/"
        },
        "id": "32mRTjDiP4QK",
        "outputId": "535a68c4-3bc5-4b3e-93b7-ec78150435ac"
      },
      "execution_count": null,
      "outputs": [
        {
          "output_type": "stream",
          "name": "stdout",
          "text": [
            "Sayı girin (0 ise bitir): 45\n",
            "Sayı girin (0 ise bitir): 86\n",
            "Sayı girin (0 ise bitir): 92\n",
            "Sayı girin (0 ise bitir): 70\n",
            "Sayı girin (0 ise bitir): 60\n",
            "Sayı girin (0 ise bitir): 40\n",
            "Sayı girin (0 ise bitir): 32\n",
            "Sayı girin (0 ise bitir): 4\n",
            "Sayı girin (0 ise bitir): 9\n",
            "Sayı girin (0 ise bitir): 0\n",
            "Toplam: 438\n",
            "Ortalama:  48.67\n"
          ]
        }
      ]
    },
    {
      "cell_type": "code",
      "source": [
        "\"\"\" Soru 7 – Palindrom Kontrolü\n",
        "Kullanıcıdan bir kelime isteyin.\n",
        "• Kelimenin palindrom olup olmadığını kontrol edin.\n",
        "• Örnek: \"kayak\" → Palindrom , \"python\" → Değil\n",
        "\"\"\"\n",
        "\n",
        "kelime = input(\"Bir kelime girin: \")\n",
        "\n",
        "if kelime == \"\".join(reversed(kelime)):\n",
        "    print(\"Palindrom kelimedir\")\n",
        "else:\n",
        "    print(\"Palindrom kelime değil\")\n"
      ],
      "metadata": {
        "colab": {
          "base_uri": "https://localhost:8080/"
        },
        "id": "ahLNIVWWRh7I",
        "outputId": "032d6662-509e-414a-b320-95f49d4cd272"
      },
      "execution_count": null,
      "outputs": [
        {
          "output_type": "stream",
          "name": "stdout",
          "text": [
            "Bir kelime girin: kayak\n",
            "Palindrom\n"
          ]
        }
      ]
    },
    {
      "cell_type": "code",
      "source": [
        "\"\"\"\n",
        "Soru 8 – List Comprehension\n",
        "1’den 100’e kadar olan sayılardan:\n",
        "• Hem 3’e hem 5’e bölünebilenlerin karelerini içeren bir liste oluşturun.\n",
        "• Sonucu ekrana yazdırın.\n",
        "\"\"\"\n",
        "\n",
        "# Hem 3 hem 5'e bölünen sayılar\n",
        "sayilar = [x for x in range(1, 101) if x % 3 == 0 and x % 5 == 0]\n",
        "\n",
        "# Bu sayıların kareleri\n",
        "kareler = [x**2 for x in sayilar]\n",
        "\n",
        "print(\"Sayilar:\", sayilar)\n",
        "print(\"Kareler:\", kareler)\n",
        "\n"
      ],
      "metadata": {
        "id": "9wxdXGo3TPN2",
        "outputId": "895e8435-8720-4701-fd8f-efe923eeed6e",
        "colab": {
          "base_uri": "https://localhost:8080/"
        }
      },
      "execution_count": 3,
      "outputs": [
        {
          "output_type": "stream",
          "name": "stdout",
          "text": [
            "Sayilar: [15, 30, 45, 60, 75, 90]\n",
            "Kareler: [225, 900, 2025, 3600, 5625, 8100]\n"
          ]
        }
      ]
    },
    {
      "cell_type": "code",
      "source": [
        "\"\"\"\n",
        "Soru 9 – String İşlemleri\n",
        "Bir cümle alın.\n",
        "• Cümledeki kelimeleri split() ile ayırın.\n",
        "• Her kelimenin ilk harfini büyük yaparak yeni bir string oluşturun.\n",
        "• Örnek: \"python veri bilimi\" → \"Python Veri Bilimi\"\n",
        "\"\"\"\n",
        "\n",
        "cumle = input(\"Bir cümle girin: \")\n",
        "kelimeler = cumle.split()             # kelimelere ayır\n",
        "yeni_cumle = \" \".join(k.capitalize() for k in kelimeler)  # baş harfi büyük yap\n",
        "print(yeni_cumle)\n"
      ],
      "metadata": {
        "id": "0MUJF9c5TUgr",
        "colab": {
          "base_uri": "https://localhost:8080/"
        },
        "outputId": "1a899cc3-7e76-444d-ed08-148504ca5419"
      },
      "execution_count": 7,
      "outputs": [
        {
          "output_type": "stream",
          "name": "stdout",
          "text": [
            "Bir cümle girin: bugün hava sıcaklığı 25 derece ve paraçlı bulutlu\n",
            "Bugün Hava Sıcaklığı 25 Derece Ve Paraçlı Bulutlu\n"
          ]
        }
      ]
    },
    {
      "cell_type": "code",
      "source": [
        "#Film Yorumu Analizi\n",
        "\"\"\"\n",
        "Proje Tanımı:\n",
        "Kullanıcıdan birkaç film yorumu alın (örneğin 5–6 yorum).\n",
        "- Yorumları bir listeye atın.\n",
        "- Her yorumun uzunluğunu (karakter sayısı) bulun.\n",
        "- Kaç yorumda \"iyi\" kelimesi geçtiğini sayın.\n",
        "- En uzun yorumu ve en kısa yorumu ekrana yazdırın.\n",
        "- Tüm yorumların ortalama uzunluğunu hesaplayın.\n",
        "\"\"\"\n",
        "\n",
        "yorumlar = []\n",
        "\n",
        "print(\"Film yorumlarını girin (bitirmek için Enter tuşuna basın):\")\n",
        "\n",
        "while True:\n",
        "    y = input(f\"{len(yorumlar)+1}. yorumu girin: \")\n",
        "    if y == \"\":  # boş input, döngüyü kır\n",
        "        break\n",
        "    yorumlar.append(y)\n",
        "\n",
        "print(f\"Girdiğiniz toplam yorum sayısı: {len(yorumlar)}\")\n",
        "print(\"Yorumlar:\", yorumlar)\n",
        "print(\"\\n\")\n",
        "\n",
        "print(\"Yorumlar ve uzunlukları:\")\n",
        "\n",
        "for i, yorum in enumerate(yorumlar, start=1):\n",
        "    print(f\"{i}. yorum (\\\"{yorum}\\\"): {len(yorum)} karakter\")\n",
        "\n",
        "print(\"\\n\")\n",
        "\n",
        "iyi_sayisi = sum(1 for y in yorumlar if \"iyi\" in y.lower())\n",
        "print('\"iyi\" geçen yorum sayısı:', iyi_sayisi)\n",
        "\n",
        "print(\"\\n\")\n",
        "\n",
        "en_uzun = max(yorumlar, key=len)\n",
        "en_kisa = min(yorumlar, key=len)\n",
        "\n",
        "print(\"En uzun yorum:\", en_uzun)\n",
        "print(\"En kısa yorum:\", en_kisa)\n",
        "\n",
        "print(\"\\n\")\n",
        "\n",
        "uzunluklar = [len(y) for y in yorumlar]\n",
        "ortalama = sum(uzunluklar) / len(yorumlar)\n",
        "print(\"Ortalama uzunluk:\", int(ortalama), \"karakter\")\n",
        "\n"
      ],
      "metadata": {
        "colab": {
          "base_uri": "https://localhost:8080/"
        },
        "id": "5zjd-771dZ6c",
        "outputId": "1cbe1295-3f1a-456c-e54c-139a0d000719"
      },
      "execution_count": 11,
      "outputs": [
        {
          "output_type": "stream",
          "name": "stdout",
          "text": [
            "Film yorumlarını girin (bitirmek için Enter tuşuna basın):\n",
            "1. yorumu girin: Film çok güzeldi\n",
            "2. yorumu girin: Kötüydü\n",
            "3. yorumu girin: Ortalama bir filmdi\n",
            "4. yorumu girin: Gerçekten çok iyi\n",
            "5. yorumu girin: İyi ama daha iyi olabilir\n",
            "6. yorumu girin: \n",
            "Girdiğiniz toplam yorum sayısı: 5\n",
            "Yorumlar: ['Film çok güzeldi', 'Kötüydü', 'Ortalama bir filmdi', 'Gerçekten çok iyi', 'İyi ama daha iyi olabilir']\n",
            "\n",
            "\n",
            "Yorumlar ve uzunlukları:\n",
            "1. yorum (\"Film çok güzeldi\"): 16 karakter\n",
            "2. yorum (\"Kötüydü\"): 7 karakter\n",
            "3. yorum (\"Ortalama bir filmdi\"): 19 karakter\n",
            "4. yorum (\"Gerçekten çok iyi\"): 17 karakter\n",
            "5. yorum (\"İyi ama daha iyi olabilir\"): 25 karakter\n",
            "\n",
            "\n",
            "\"iyi\" geçen yorum sayısı: 2\n",
            "\n",
            "\n",
            "En uzun yorum: İyi ama daha iyi olabilir\n",
            "En kısa yorum: Kötüydü\n",
            "\n",
            "\n",
            "Ortalama uzunluk: 16 karakter\n"
          ]
        }
      ]
    }
  ]
}