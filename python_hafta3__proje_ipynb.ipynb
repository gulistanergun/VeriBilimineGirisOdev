{
  "nbformat": 4,
  "nbformat_minor": 0,
  "metadata": {
    "colab": {
      "provenance": [],
      "toc_visible": true,
      "authorship_tag": "ABX9TyMujVn532qEIq+Mx8c6JKdt",
      "include_colab_link": true
    },
    "kernelspec": {
      "name": "python3",
      "display_name": "Python 3"
    },
    "language_info": {
      "name": "python"
    }
  },
  "cells": [
    {
      "cell_type": "markdown",
      "metadata": {
        "id": "view-in-github",
        "colab_type": "text"
      },
      "source": [
        "<a href=\"https://colab.research.google.com/github/gulistanergun/VeriBilimineGirisOdev/blob/main/python_hafta3__proje_ipynb.ipynb\" target=\"_parent\"><img src=\"https://colab.research.google.com/assets/colab-badge.svg\" alt=\"Open In Colab\"/></a>"
      ]
    },
    {
      "cell_type": "code",
      "execution_count": 3,
      "metadata": {
        "id": "ELQSeqEllTUo"
      },
      "outputs": [],
      "source": [
        "kitaplar = [\n",
        " {\"isim\": \"Veri Bilimi 101\", \"yazar\": \"Ali\", \"tur\": \"Bilim\", \"satis\": 1200, \"yil\": 2021},\n",
        " {\"isim\": \"Python ile Yapay Zeka\", \"yazar\": \"Ayşe\", \"tur\": \"Bilim\", \"satis\": 950, \"yil\":2020},\n",
        " {\"isim\": \"İstatistik Temelleri\", \"yazar\": \"Ali\", \"tur\": \"Akademik\", \"satis\": 700, \"yil\": 2019},\n",
        " {\"isim\": \"Makine Öğrenmesi\", \"yazar\": \"Can\", \"tur\": \"Bilim\", \"satis\": 1800, \"yil\": 2022},\n",
        " {\"isim\": \"Veri Görselleştirme\", \"yazar\": \"Deniz\", \"tur\": \"Sanat\", \"satis\": 400, \"yil\": 2018},\n",
        " {\"isim\": \"Matematiksel Modelleme\", \"yazar\": \"Ali\", \"tur\": \"Akademik\", \"satis\": 1500,\"yil\": 2021},\n",
        " {\"isim\": \"Bilgi Toplumu\", \"yazar\": \"Ayşe\", \"tur\": \"Sosyal\", \"satis\": 600, \"yil\": 2022}\n",
        "]\n"
      ]
    },
    {
      "cell_type": "code",
      "source": [
        "def en_cok_satan(kitaplar):\n",
        "    return max(kitaplar, key=lambda k: k[\"satis\"])\n",
        "\n",
        "en_cok_kitap = en_cok_satan(kitaplar)\n",
        "print(f\"En çok satan kitap: \\\"{en_cok_kitap['isim']}\\\" - {en_cok_kitap['satis']} adet\")\n",
        "\n",
        "\n",
        "\n",
        "def yazar_satislari(kitaplar):\n",
        "    yazar_satis = {}\n",
        "    for kitap in kitaplar:\n",
        "        yazar = kitap['yazar']\n",
        "        satis = kitap['satis']\n",
        "        yazar_satis[yazar] = yazar_satis.get(yazar, 0) + satis\n",
        "\n",
        "    return yazar_satis\n",
        "# Yazar satışları\n",
        "yazar_satis_sonuc = yazar_satislari(kitaplar)\n",
        "print(f\"Yazar satışları: {yazar_satis_sonuc}\")\n"
      ],
      "metadata": {
        "colab": {
          "base_uri": "https://localhost:8080/"
        },
        "id": "K2gdcNr8llrK",
        "outputId": "ba9db91e-8ce5-40ed-f149-5dab4c29b92e"
      },
      "execution_count": 9,
      "outputs": [
        {
          "output_type": "stream",
          "name": "stdout",
          "text": [
            "En çok satan kitap: \"Makine Öğrenmesi\" - 1800 adet\n",
            "Yazar satışları: {'Ali': 3400, 'Ayşe': 1550, 'Can': 1800, 'Deniz': 400}\n"
          ]
        }
      ]
    },
    {
      "cell_type": "code",
      "source": [
        "#2 liste ve küme işlemleri\n",
        "#Tüm kitap türlerini (tur) küme halinde çıkarın (tekrar eden türler olmadan).\n",
        "#Satış adedi 1000’den fazla olan kitapların isimlerini bir listede toplayın.\n",
        "\n",
        "#kitap türleri\n",
        "turler = {kitap[\"tur\"] for kitap in kitaplar}\n",
        "print(f\"Kitap türleri: {turler}\")\n",
        "\n",
        "# 1000’den fazla satanlar\n",
        "cok_satanlar = [kitap[\"isim\"] for kitap in kitaplar if kitap[\"satis\"] > 1000]\n",
        "print(f\"1000'den fazla satan kitaplar: {cok_satanlar}\")\n",
        "\n"
      ],
      "metadata": {
        "id": "cK0dpR1rqEdX",
        "colab": {
          "base_uri": "https://localhost:8080/"
        },
        "outputId": "5d8f254c-dc4c-4976-af31-6ab30371d120"
      },
      "execution_count": 11,
      "outputs": [
        {
          "output_type": "stream",
          "name": "stdout",
          "text": [
            "Kitap türleri: {'Bilim', 'Akademik', 'Sosyal', 'Sanat'}\n",
            "1000'den fazla satan kitaplar: ['Veri Bilimi 101', 'Makine Öğrenmesi', 'Matematiksel Modelleme']\n"
          ]
        }
      ]
    },
    {
      "cell_type": "code",
      "source": [
        "#3. Lambda / Filter / Map Kullanımı:\n",
        "# filter ile 2020’den sonra çıkan kitapları süzün.\n",
        "# map ile tüm satış adetlerini %10 artırılmış şekilde yeni bir listeye aktarın.\n",
        "# sorted + lambda ile kitapları satış miktarına göre azalan şekilde sıralayın\n",
        "\n",
        "# 2020’den sonra çıkanlar\n",
        "sonraki = list(filter(lambda k: k[\"yil\"] > 2020, kitaplar))\n",
        "print(\"2020'den sonra çıkan kitaplar: \" +\", \".join(f\"{k['isim']} ({k['yil']})\" for k in sonraki))\n",
        "\n",
        "# Satışları %10 artır\n",
        "artirilmis = list(map(lambda k: int(k[\"satis\"] * 1.1), kitaplar))\n",
        "print(f\"%10 artıtılmış satışlar: {artirilmis}\")\n",
        "\n",
        "\n",
        "# Satışa göre azalan sırala\n",
        "sirali = sorted(kitaplar, key=lambda k: k[\"satis\"], reverse=True)\n",
        "print(f\"Satışa göre azalan sıralama: \")\n",
        "for kitap in sirali:\n",
        "    print(f\"- {kitap['isim']} ({kitap['satis']} satış)\")\n",
        "\n",
        "\n",
        "\n"
      ],
      "metadata": {
        "colab": {
          "base_uri": "https://localhost:8080/"
        },
        "id": "De5gJs1KlYPp",
        "outputId": "ac78c3d0-3ca8-4a4a-9c8d-ed4dc1d1fd58"
      },
      "execution_count": 27,
      "outputs": [
        {
          "output_type": "stream",
          "name": "stdout",
          "text": [
            "2020'den sonra çıkan kitaplar: Veri Bilimi 101 (2021), Makine Öğrenmesi (2022), Matematiksel Modelleme (2021), Bilgi Toplumu (2022)\n",
            "%10 artıtılmış satışlar: [1320, 1045, 770, 1980, 440, 1650, 660]\n",
            "Satışa göre azalan sıralama: \n",
            "- Makine Öğrenmesi (1800 satış)\n",
            "- Matematiksel Modelleme (1500 satış)\n",
            "- Veri Bilimi 101 (1200 satış)\n",
            "- Python ile Yapay Zeka (950 satış)\n",
            "- İstatistik Temelleri (700 satış)\n",
            "- Bilgi Toplumu (600 satış)\n",
            "- Veri Görselleştirme (400 satış)\n"
          ]
        }
      ]
    },
    {
      "cell_type": "code",
      "source": [
        "#4. İstatistiksel Analiz:\n",
        "# Ortalama satış adedini bulun.\n",
        "# En çok satış yapan türü bulun.\n",
        "# Satışların standart sapmasını hesaplamak için statistics modülünü kullanın.\n",
        "\n",
        "import statistics\n",
        "\n",
        "#ortalam satış hesabı\n",
        "ortalama = statistics.mean(kitap[\"satis\"] for kitap in kitaplar)\n",
        "print(f\"Satış adedini ortlaması: {ortalama:.2f}\")\n",
        "\n",
        "# en çok satan tür\n",
        "tur_satislari = {}\n",
        "for k in kitaplar:\n",
        "    tur_satislari[k[\"tur\"]] = tur_satislari.get(k[\"tur\"], 0) + k[\"satis\"]\n",
        "en_cok_tur = max(tur_satislari, key=tur_satislari.get)\n",
        "print(f\"En çok satan tür: {en_cok_tur}\")\n",
        "toplam_satis = tur_satislari[en_cok_tur]\n",
        "print(f\"En çok satan tür: {en_cok_tur} ({toplam_satis} adet)\")\n",
        "\n",
        "\n",
        "#standart sapma bul\n",
        "standart_sapma = statistics.stdev([k[\"satis\"] for k in kitaplar])\n",
        "print(f\"Satışların standart sapma hesabı: {standart_sapma:.2f}\")"
      ],
      "metadata": {
        "colab": {
          "base_uri": "https://localhost:8080/"
        },
        "id": "fNwEMYS3lc25",
        "outputId": "e1b87966-b88d-4f88-8752-e363b06ddbf8"
      },
      "execution_count": 41,
      "outputs": [
        {
          "output_type": "stream",
          "name": "stdout",
          "text": [
            "Satış adedini ortlaması: 1021.43\n",
            "En çok satan tür: Bilim\n",
            "En çok satan tür: Bilim (3950 adet)\n",
            "Satışların standart sapma hesabı: 506.51\n"
          ]
        }
      ]
    },
    {
      "cell_type": "code",
      "source": [
        "# Train/Test Simülasyonu\n",
        "# Kitap listesini rastgele %70 eğitim (train), %30 test verisine ayırın #random.sample).\n",
        "# Eğitim verisinden yazarların ortalama satışını hesaplayın.\n",
        "# Test verisinde, hangi kitapların satışlarının bu ortalamanın üzerinde olduğunu kontrol edin\n",
        "\n",
        "import random\n",
        "\n",
        "# Kaç kitap eğitim olacak\n",
        "n_train = int(len(kitaplar) * 0.7)\n",
        "\n",
        "# Eğitim verisi: rastgele n_train kitap seç\n",
        "train_verisi = random.sample(kitaplar, n_train)\n",
        "\n",
        "# Test verisi: eğitimde olmayan kitaplar\n",
        "test_verisi = [k for k in kitaplar if k not in train_verisi]\n",
        "\n",
        "\n",
        "print(\"Eğitim verisi:\", [k[\"isim\"] for k in train_verisi])\n",
        "print(\"Test verisi:\", [k[\"isim\"] for k in test_verisi])\n",
        "\n",
        "\n",
        "# Eğitim verisindeki satışların ortalaması\n",
        "ortalama_satis = sum(k[\"satis\"] for k in train_verisi) / len(train_verisi)\n",
        "print(f\"Eğitim verisi ortalama satış: {ortalama_satis:.2f}\")\n",
        "\n",
        "\n",
        "#test verisi ortlaa üzeri satışlar\n",
        "print(\"Test verisinde ortalamanın üzerinde satışa sahip kitaplar:\")\n",
        "\n",
        "for k in test_verisi:\n",
        "    if k[\"satis\"] > ortalama_satis:\n",
        "        print(f\"- {k['isim']} ({k['satis']} satış)\")\n",
        "\n",
        "#traindeki max ve min satışlar\n",
        "max_satis = max(train_verisi, key=lambda k: k[\"satis\"])\n",
        "min_satis = min(train_verisi, key=lambda k: k[\"satis\"])\n",
        "\n",
        "print(f\"En çok satan kitap: {max_satis['isim']} ({max_satis['satis']} adet)\")\n",
        "print(f\"En az satan kitap: {min_satis['isim']} ({min_satis['satis']} adet)\")\n",
        "\n",
        "\n",
        "\n"
      ],
      "metadata": {
        "colab": {
          "base_uri": "https://localhost:8080/"
        },
        "id": "HikPPueb3NxQ",
        "outputId": "d60e5837-6a8b-46e1-91e0-d363f1dadc09"
      },
      "execution_count": 57,
      "outputs": [
        {
          "output_type": "stream",
          "name": "stdout",
          "text": [
            "Eğitim verisi: ['Veri Görselleştirme', 'Python ile Yapay Zeka', 'Veri Bilimi 101', 'Bilgi Toplumu']\n",
            "Test verisi: ['İstatistik Temelleri', 'Makine Öğrenmesi', 'Matematiksel Modelleme']\n",
            "Eğitim verisi ortalama satış: 787.50\n",
            "Test verisinde ortalamanın üzerinde satışa sahip kitaplar:\n",
            "- Makine Öğrenmesi (1800 satış)\n",
            "- Matematiksel Modelleme (1500 satış)\n",
            "En çok satan kitap: Veri Bilimi 101 (1200 adet)\n",
            "En az satan kitap: Veri Görselleştirme (400 adet)\n",
            "Kitap türlerinin sıklığı:\n",
            "- Sanat: 1 kitap\n",
            "- Bilim: 2 kitap\n",
            "- Sosyal: 1 kitap\n"
          ]
        }
      ]
    }
  ]
}