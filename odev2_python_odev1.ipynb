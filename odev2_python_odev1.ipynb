{
  "nbformat": 4,
  "nbformat_minor": 0,
  "metadata": {
    "colab": {
      "provenance": [],
      "toc_visible": true,
      "authorship_tag": "ABX9TyM5vbIB2/Uirauul79gHVK6"
    },
    "kernelspec": {
      "name": "python3",
      "display_name": "Python 3"
    },
    "language_info": {
      "name": "python"
    }
  },
  "cells": [
    {
      "cell_type": "code",
      "execution_count": null,
      "metadata": {
        "colab": {
          "base_uri": "https://localhost:8080/"
        },
        "id": "ZYczaigVqO5I",
        "outputId": "e6dd1f6b-a17c-4001-ad68-3fa224972438"
      },
      "outputs": [
        {
          "output_type": "stream",
          "name": "stdout",
          "text": [
            "İsminizi giriniz: hüda\n",
            "Yaşınızı giriniz: 6\n",
            "Boyunuzu giriniz: 1.4\n",
            "Merhaba hüda, 6 yaşındasınız ve boyunuz 1.4 metredir.\n"
          ]
        }
      ],
      "source": [
        "#veri tipleri\n",
        "\n",
        "# 1.soru  - 1. ister\n",
        "#1. Kullanıcıdan adını, yaşını ve boyunu (float) input() ile alınız.\n",
        "# Bu bilgileri uygun veri tiplerinde değişkenlerde saklayınız ve ekrana anlamlı bir şekilde yazdırınız.\n",
        "\n",
        "isim = input(\"İsminizi giriniz: \")\n",
        "yas = int(input(\"Yaşınızı giriniz: \"))\n",
        "boy = float(input(\"Boyunuzu giriniz: \"))\n",
        "print (f\"Merhaba {isim}, {yas} yaşındasınız ve boyunuz {boy} metredir.\")\n",
        "\n",
        "\n",
        "\n",
        "\n",
        "\n",
        "\n"
      ]
    },
    {
      "cell_type": "markdown",
      "source": [
        "# Yeni Bölüm"
      ],
      "metadata": {
        "id": "bYTiUA8yRJUY"
      }
    },
    {
      "cell_type": "code",
      "source": [
        "#1. soru 2. ister\n",
        "#2. Bir öğrencinin notlarını (Matematik, Fizik, Kimya) int tipinde değişkenlere atayın.\n",
        "# Ortalamasını float tipinde hesaplayıp ekrana yazdırınız.\n",
        "\n",
        "matematik = int(input(\"Matematik notunuzu giriniz\"))\n",
        "fizik = int(input(\"Fizik notunuzu giriniz\"))\n",
        "kimya = int(input(\"Kimya notunuzu giriniz\"))\n",
        "ortalama = (matematik + fizik + kimya) / 3\n",
        "print(f\"Ortalamanız: \",float(ortalama))\n",
        "\n",
        "\n"
      ],
      "metadata": {
        "id": "owqApKneQL_3"
      },
      "execution_count": null,
      "outputs": []
    },
    {
      "cell_type": "code",
      "source": [
        "#1.soru 3. ister\n",
        "# 3. Bir string değişkeni tanımlayın. Bu stringin ilk ve son karakterini,\n",
        "# uzunluğunu ve ters çevrilmiş halini ekrana yazdırınız.\n",
        "\n",
        "metin = \"Veri bilimine giriş eğitimi\"\n",
        "print(\"İlk karakter:\", metin[0])\n",
        "print(\"Son karakter:\", metin[-1])\n",
        "print(\"Uzunluk:\", len(metin))\n",
        "print(\"Ters hali:\", metin[::-1])"
      ],
      "metadata": {
        "colab": {
          "base_uri": "https://localhost:8080/"
        },
        "id": "Kb0Qpa0AQEpm",
        "outputId": "ae9f0409-df37-4f09-8766-657df3f259a1"
      },
      "execution_count": null,
      "outputs": [
        {
          "output_type": "stream",
          "name": "stdout",
          "text": [
            "İlk karakter: V\n",
            "Son karakter: i\n",
            "Uzunluk: 27\n",
            "Ters hali: imitiğe şirig enimilib ireV\n"
          ]
        }
      ]
    },
    {
      "cell_type": "code",
      "source": [
        "# Operatörler\n",
        "# 4. Kullanıcıdan iki sayı alınız.\n",
        "# Bu sayılar üzerinde toplama, çıkarma, çarpma, bölme ve mod işlemleri yapınız.\n",
        "\n",
        "# Görev 4\n",
        "sayi1 = float(input(\"Birinci sayıyı giriniz: \"))\n",
        "sayi2 = float(input(\"İkinci sayıyı giriniz: \"))\n",
        "\n",
        "print(\"Toplama:\", sayi1 + sayi2)\n",
        "print(\"Çıkarma:\", sayi1 - sayi2)\n",
        "print(\"Çarpma:\", sayi1 * sayi2)\n",
        "print(\"Bölme:\", sayi1 / sayi2)\n",
        "print(\"Mod:\", sayi1 % sayi2)\n",
        "\n",
        "\n"
      ],
      "metadata": {
        "id": "CwnAz1seq4lX",
        "colab": {
          "base_uri": "https://localhost:8080/"
        },
        "outputId": "4e3839bb-28d6-4c6c-ec86-8b64cf298180"
      },
      "execution_count": null,
      "outputs": [
        {
          "output_type": "stream",
          "name": "stdout",
          "text": [
            "Birinci sayıyı giriniz: 15.5\n",
            "İkinci sayıyı giriniz: 3.4\n",
            "Toplama: 18.9\n",
            "Çıkarma: 12.1\n",
            "Çarpma: 52.699999999999996\n",
            "Bölme: 4.5588235294117645\n",
            "Mod: 1.9000000000000004\n"
          ]
        }
      ]
    },
    {
      "cell_type": "code",
      "source": [
        "#5. Bir öğrencinin ortalaması 50’den büyükse 'Geçti', değilse 'Kaldı' çıktısını veren\n",
        "#bir program yazınız. (Karşılaştırma ve mantıksal operatörler kullanılacak.)\n",
        "\n",
        "\n",
        "not_ortalama = float(input(\"Not ortalamanızı giriniz: \"))\n",
        "\n",
        "if not_ortalama > 50:\n",
        "    print(\"Tebrikler Geçtiniz!\")\n",
        "else:\n",
        "    print(\"Maalesef Kaldınız!\")\n",
        "\n",
        "\n",
        "\n",
        "\n"
      ],
      "metadata": {
        "id": "LtyJFL_qQ2ad",
        "colab": {
          "base_uri": "https://localhost:8080/"
        },
        "outputId": "1c0ac610-3476-4efb-e319-f7117cb1bd1d"
      },
      "execution_count": null,
      "outputs": [
        {
          "output_type": "stream",
          "name": "stdout",
          "text": [
            "Not ortalamanızı giriniz: 50.2\n",
            "Tebrikler Geçtiniz!\n"
          ]
        }
      ]
    },
    {
      "cell_type": "code",
      "source": [
        "#6. Kullanıcıdan yaşını alınız. Eğer yaş 18’den büyükse 'Ehliyet alabilirsiniz',\n",
        "# değilse 'Ehliyet alamazsınız' çıktısı veriniz.\n",
        "\n",
        "yas = int(input(\"Yaş Giriniz: \"))\n",
        "\n",
        "if yas >= 18:\n",
        "    print(\"Ehliyet alabilirsiniz\")\n",
        "else:\n",
        "    print(\"Ehliyet alamazsınız\")\n",
        "\n"
      ],
      "metadata": {
        "id": "7gUEkVc6Q3D3",
        "colab": {
          "base_uri": "https://localhost:8080/"
        },
        "outputId": "2483631c-87a9-426e-c58c-d54d39ababe1"
      },
      "execution_count": null,
      "outputs": [
        {
          "output_type": "stream",
          "name": "stdout",
          "text": [
            "Yaş Giriniz: 23\n",
            "Ehliyet alabilirsiniz\n"
          ]
        }
      ]
    },
    {
      "cell_type": "markdown",
      "source": [],
      "metadata": {
        "id": "e-abSuQMRBOe"
      }
    },
    {
      "cell_type": "code",
      "source": [
        "# 7. Bir ürünün fiyatını (float) ve indirim oranını (yüzde) alınız.\n",
        "#İndirimli fiyatı hesaplayıp ekrana yazdırınız. (Aritmetik operatörler kullanılacak.)\n",
        "\n",
        "\n",
        "fiyat = float(input(\"Ürün fiyatını giriniz: \"))\n",
        "indirim = float(input(\"İndirim oranını % olarak giriniz: \"))\n",
        "\n",
        "indirimli_fiyat = fiyat - (fiyat * indirim / 100)\n",
        "print(\"İndirimli fiyat:\", indirimli_fiyat)\n",
        "\n",
        "\n"
      ],
      "metadata": {
        "id": "1MpCQ_f-RBcU"
      },
      "execution_count": null,
      "outputs": []
    },
    {
      "cell_type": "code",
      "source": [
        "#8. True ve False değerlerini içeren değişkenlerle\n",
        "#mantıksal operatörleri (and, or, not) uygulayarak örnekler yapınız ve sonuçlarını ekrana yazdırınız.\n",
        "\n",
        "# Görev 8\n",
        "deger_1= True\n",
        "deger_2 = False\n",
        "deger_3 = True\n",
        "deger_4 = False\n",
        "\n",
        "print(\"deger_1 and deger_2:\", deger_1 and deger_2)\n",
        "print(\"deger_1 and deger_3:\", deger_1 and deger_3)\n",
        "print(\"adeger_1 or deger_2:\", deger_1 or deger_2)\n",
        "print(\"deger_2 or deger_4:\", deger_2 or deger_4)\n",
        "print(\"not deger_1:\", not deger_1)\n",
        "print(\"not deger_2:\", not deger_2)\n",
        "\n",
        "\n",
        "\n"
      ],
      "metadata": {
        "colab": {
          "base_uri": "https://localhost:8080/"
        },
        "id": "_5MfKLpMRAw9",
        "outputId": "6baaecfa-9a6e-4081-8ca7-bf7cac265efc"
      },
      "execution_count": null,
      "outputs": [
        {
          "output_type": "stream",
          "name": "stdout",
          "text": [
            "1. ürünün fiyatı: 200\n",
            "2. ürünün fiyatı: 200\n",
            "3. ürünün fiyatı: 100\n",
            "indirimsiz fiyat: 500.0\n",
            "İndirim uygulandı!\n",
            "Ödenecek tutar: 450.0\n"
          ]
        }
      ]
    },
    {
      "cell_type": "code",
      "source": [
        "\n",
        "#görev9\n",
        "# Küçük bir alışveriş sepeti uygulaması yapınız:\n",
        "# Kullanıcıdan 3 ürünün fiyatını alınız.\n",
        "# Toplam fiyatı hesaplayınız.\n",
        "# Eğer toplam fiyat 200 TL’den fazlaysa %10 indirim uygulayınız.\n",
        "# Son fiyatı ekrana yazdırınız.\n",
        "\n",
        "urun1 = float(input(\"1. ürünün fiyatı: \"))\n",
        "urun2 = float(input(\"2. ürünün fiyatı: \"))\n",
        "urun3 = float(input(\"3. ürünün fiyatı: \"))\n",
        "\n",
        "toplam_fiyat = urun1 + urun2 + urun3\n",
        "\n",
        "if toplam_fiyat > 200:\n",
        "    print(\"indirimsiz fiyat:\", toplam_fiyat)\n",
        "    toplam_fiyat -= toplam_fiyat * 0.10  # %10 indirim\n",
        "    print(\"İndirim uygulandı!\")\n",
        "\n",
        "else:\n",
        "    print(\"İndirim uygulanmadı.\")\n",
        "\n",
        "print(\"Ödenecek tutar:\", toplam_fiyat)"
      ],
      "metadata": {
        "id": "j-ZSTAklV8K9"
      },
      "execution_count": null,
      "outputs": []
    },
    {
      "cell_type": "code",
      "source": [
        "# Görev 10\n",
        "\n",
        "# Kullanıcıdan doğum yılını alınız. Bu yıl ile güncel yılı kullanarak\n",
        "# yaşını hesaplayınız. Yaşına göre şu mesajlardan birini veriniz:\n",
        "# 0-12: 'Çocuksunuz'\n",
        "# 13-17: 'Ergensiniz'\n",
        "# 18 ve üzeri: 'Yetişkinsiniz'\n",
        "\n",
        "\n",
        "dogum_yili = int(input(\"Doğum yılınızı giriniz: \"))\n",
        "guncel_yil = 2025\n",
        "print(\"Güncel tarih: \",guncel_yil)\n",
        "yas = guncel_yil - dogum_yili\n",
        "print(\"Yaşınız: \",yas)\n",
        "if yas <= 12:\n",
        "    print(\"Çocuksunuz\")\n",
        "elif yas <= 17:\n",
        "    print(\"Ergensiniz\")\n",
        "else:\n",
        "    print(\"Yetişkinsiniz\")"
      ],
      "metadata": {
        "colab": {
          "base_uri": "https://localhost:8080/"
        },
        "id": "Fk-XGiHJV-Cu",
        "outputId": "99b3966e-7aaa-4f69-d56e-52521677e7bf"
      },
      "execution_count": null,
      "outputs": [
        {
          "output_type": "stream",
          "name": "stdout",
          "text": [
            "Doğum yılınızı giriniz: 2002\n",
            "Güncel tarih:  2025\n",
            "Yaşınız:  23\n",
            "Yetişkinsiniz\n"
          ]
        }
      ]
    }
  ]
}